{
 "cells": [
  {
   "cell_type": "code",
   "metadata": {
    "metadata": {},
    "ExecuteTime": {
     "end_time": "2024-06-07T14:57:52.777246Z",
     "start_time": "2024-06-07T14:57:52.774571Z"
    }
   },
   "source": [
    "import torch\n",
    "import csv\n",
    "import numpy as np\n",
    "import torch.nn as nn\n",
    "from sklearn.model_selection import train_test_split"
   ],
   "outputs": [],
   "execution_count": 162
  },
  {
   "cell_type": "code",
   "metadata": {
    "metadata": {},
    "ExecuteTime": {
     "end_time": "2024-06-07T14:57:52.788254Z",
     "start_time": "2024-06-07T14:57:52.777246Z"
    }
   },
   "source": [
    "def reading_files(filename):\n",
    "    list1 = []\n",
    "    list2 = []\n",
    "    file = open(filename)\n",
    "    csvreader = csv.reader(file)\n",
    "\n",
    "    for row in csvreader:\n",
    "        if row[0] == 'meanfreq':\n",
    "            continue\n",
    "        if row.pop() == 'male':\n",
    "            list2.append(1)\n",
    "        else:\n",
    "            list2.append(0)\n",
    "        list1.append(row)\n",
    "\n",
    "    data = torch.tensor(np.array(list1, dtype=float), dtype=torch.float)\n",
    "    label = np.array(list2)\n",
    "    return data, label"
   ],
   "outputs": [],
   "execution_count": 163
  },
  {
   "metadata": {
    "ExecuteTime": {
     "end_time": "2024-06-07T14:57:52.789988Z",
     "start_time": "2024-06-07T14:57:52.788254Z"
    }
   },
   "cell_type": "code",
   "source": [
    "\n",
    "    "
   ],
   "outputs": [],
   "execution_count": 163
  },
  {
   "metadata": {
    "ExecuteTime": {
     "end_time": "2024-06-07T14:57:52.813247Z",
     "start_time": "2024-06-07T14:57:52.789988Z"
    }
   },
   "cell_type": "code",
   "source": [
    "data, label = reading_files(\"voice.csv\")\n",
    "# print(data.shape)\n",
    "t_and_v_data, test_data, t_and_v_labels, test_labels = train_test_split(data, label, test_size=0.2, random_state=43)\n",
    "train_data, val_data, train_labels, val_labels = train_test_split(t_and_v_data, t_and_v_labels, test_size=0.2, random_state=43)\n",
    "# train_conv(train_data, train_labels)\n"
   ],
   "outputs": [],
   "execution_count": 164
  }
 ],
 "metadata": {
  "kernelspec": {
   "display_name": "Python 3 (ipykernel)",
   "language": "python",
   "name": "python3"
  },
  "language_info": {
   "codemirror_mode": {
    "name": "ipython",
    "version": 3
   },
   "file_extension": ".py",
   "mimetype": "text/x-python",
   "name": "python",
   "nbconvert_exporter": "python",
   "pygments_lexer": "ipython3",
   "version": "3.11.5"
  }
 },
 "nbformat": 4,
 "nbformat_minor": 2
}
